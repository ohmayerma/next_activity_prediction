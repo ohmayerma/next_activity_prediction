{
 "cells": [
  {
   "cell_type": "markdown",
   "id": "09f4e582",
   "metadata": {},
   "source": [
    "# 1.0 Import of evaluation metrics"
   ]
  },
  {
   "cell_type": "code",
   "execution_count": null,
   "id": "c6dfdd10",
   "metadata": {},
   "outputs": [],
   "source": []
  },
  {
   "cell_type": "markdown",
   "id": "ce3f2c1c",
   "metadata": {},
   "source": [
    "# 1.1 Aggregation across Decision Points (Baseline, Activity, Simple, Advanced)"
   ]
  },
  {
   "cell_type": "code",
   "execution_count": null,
   "id": "2c9e5ec8",
   "metadata": {},
   "outputs": [],
   "source": []
  },
  {
   "cell_type": "markdown",
   "id": "294e35b7",
   "metadata": {},
   "source": [
    "# 1.2. F1-Score per Decision Point"
   ]
  },
  {
   "cell_type": "code",
   "execution_count": null,
   "id": "590b6776",
   "metadata": {},
   "outputs": [],
   "source": []
  },
  {
   "cell_type": "markdown",
   "id": "547506cf",
   "metadata": {},
   "source": [
    "# 1.3. Performance vs. Number of Classes"
   ]
  },
  {
   "cell_type": "code",
   "execution_count": null,
   "id": "41bd2593",
   "metadata": {},
   "outputs": [],
   "source": []
  }
 ],
 "metadata": {
  "language_info": {
   "name": "python"
  }
 },
 "nbformat": 4,
 "nbformat_minor": 5
}
